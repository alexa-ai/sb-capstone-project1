{
 "cells": [
  {
   "cell_type": "markdown",
   "metadata": {},
   "source": [
    "# Dataset Information\n",
    "\n",
    "The dataset is provided by UCI Machine Learning via Kaggle at https://www.kaggle.com/uciml/default-of-credit-card-clients-dataset. The dataset contains information on default payments, demographic factors, credit data, history of payment, and bill statements of credit card clients in Taiwan from April 2005 to September 2005.\n",
    "\n",
    "Content:\n",
    "\n",
    "There are 25 variables:\n",
    "\n",
    "ID: ID of each client\n",
    "LIMIT_BAL: Amount of given credit in NT dollars (includes individual and family/supplementary credit\n",
    "SEX: Gender (1=male, 2=female)\n",
    "EDUCATION: (1=graduate school, 2=university, 3=high school, 4=others, 5=unknown, 6=unknown)\n",
    "MARRIAGE: Marital status (1=married, 2=single, 3=others)\n",
    "AGE: Age in years\n",
    "PAY_0: Repayment status in September, 2005 (-1=properly paid on time, 1=payment delay for one month, 2=payment delay for two months, ... 8=payment delay for eight months, 9=payment delay for nine months and above)\n",
    "PAY_2: Repayment status in August, 2005 (scale same as above)\n",
    "PAY_3: Repayment status in July, 2005 (scale same as above)\n",
    "PAY_4: Repayment status in June, 2005 (scale same as above)\n",
    "PAY_5: Repayment status in May, 2005 (scale same as above)\n",
    "PAY_6: Repayment status in April, 2005 (scale same as above)\n",
    "BILL_AMT1: Amount of bill statement in September, 2005 (NT dollar)\n",
    "BILL_AMT2: Amount of bill statement in August, 2005 (NT dollar)\n",
    "BILL_AMT3: Amount of bill statement in July, 2005 (NT dollar)\n",
    "BILL_AMT4: Amount of bill statement in June, 2005 (NT dollar)\n",
    "BILL_AMT5: Amount of bill statement in May, 2005 (NT dollar)\n",
    "BILL_AMT6: Amount of bill statement in April, 2005 (NT dollar)\n",
    "PAY_AMT1: Amount of previous payment in September, 2005 (NT dollar)\n",
    "PAY_AMT2: Amount of previous payment in August, 2005 (NT dollar)\n",
    "PAY_AMT3: Amount of previous payment in July, 2005 (NT dollar)\n",
    "PAY_AMT4: Amount of previous payment in June, 2005 (NT dollar)\n",
    "PAY_AMT5: Amount of previous payment in May, 2005 (NT dollar)\n",
    "PAY_AMT6: Amount of previous payment in April, 2005 (NT dollar)\n",
    "default.payment.next.month: Default payment (1=yes, 0=no)"
   ]
  },
  {
   "cell_type": "code",
   "execution_count": 2,
   "metadata": {},
   "outputs": [
    {
     "data": {
      "text/html": [
       "<div>\n",
       "<style scoped>\n",
       "    .dataframe tbody tr th:only-of-type {\n",
       "        vertical-align: middle;\n",
       "    }\n",
       "\n",
       "    .dataframe tbody tr th {\n",
       "        vertical-align: top;\n",
       "    }\n",
       "\n",
       "    .dataframe thead th {\n",
       "        text-align: right;\n",
       "    }\n",
       "</style>\n",
       "<table border=\"1\" class=\"dataframe\">\n",
       "  <thead>\n",
       "    <tr style=\"text-align: right;\">\n",
       "      <th></th>\n",
       "      <th>ID</th>\n",
       "      <th>LIMIT_BAL</th>\n",
       "      <th>SEX</th>\n",
       "      <th>EDUCATION</th>\n",
       "      <th>MARRIAGE</th>\n",
       "      <th>AGE</th>\n",
       "      <th>PAY_0</th>\n",
       "      <th>PAY_2</th>\n",
       "      <th>PAY_3</th>\n",
       "      <th>PAY_4</th>\n",
       "      <th>...</th>\n",
       "      <th>BILL_AMT4</th>\n",
       "      <th>BILL_AMT5</th>\n",
       "      <th>BILL_AMT6</th>\n",
       "      <th>PAY_AMT1</th>\n",
       "      <th>PAY_AMT2</th>\n",
       "      <th>PAY_AMT3</th>\n",
       "      <th>PAY_AMT4</th>\n",
       "      <th>PAY_AMT5</th>\n",
       "      <th>PAY_AMT6</th>\n",
       "      <th>default.payment.next.month</th>\n",
       "    </tr>\n",
       "  </thead>\n",
       "  <tbody>\n",
       "    <tr>\n",
       "      <th>0</th>\n",
       "      <td>1</td>\n",
       "      <td>20000.0</td>\n",
       "      <td>2</td>\n",
       "      <td>2</td>\n",
       "      <td>1</td>\n",
       "      <td>24</td>\n",
       "      <td>2</td>\n",
       "      <td>2</td>\n",
       "      <td>-1</td>\n",
       "      <td>-1</td>\n",
       "      <td>...</td>\n",
       "      <td>0.0</td>\n",
       "      <td>0.0</td>\n",
       "      <td>0.0</td>\n",
       "      <td>0.0</td>\n",
       "      <td>689.0</td>\n",
       "      <td>0.0</td>\n",
       "      <td>0.0</td>\n",
       "      <td>0.0</td>\n",
       "      <td>0.0</td>\n",
       "      <td>1</td>\n",
       "    </tr>\n",
       "    <tr>\n",
       "      <th>1</th>\n",
       "      <td>2</td>\n",
       "      <td>120000.0</td>\n",
       "      <td>2</td>\n",
       "      <td>2</td>\n",
       "      <td>2</td>\n",
       "      <td>26</td>\n",
       "      <td>-1</td>\n",
       "      <td>2</td>\n",
       "      <td>0</td>\n",
       "      <td>0</td>\n",
       "      <td>...</td>\n",
       "      <td>3272.0</td>\n",
       "      <td>3455.0</td>\n",
       "      <td>3261.0</td>\n",
       "      <td>0.0</td>\n",
       "      <td>1000.0</td>\n",
       "      <td>1000.0</td>\n",
       "      <td>1000.0</td>\n",
       "      <td>0.0</td>\n",
       "      <td>2000.0</td>\n",
       "      <td>1</td>\n",
       "    </tr>\n",
       "    <tr>\n",
       "      <th>2</th>\n",
       "      <td>3</td>\n",
       "      <td>90000.0</td>\n",
       "      <td>2</td>\n",
       "      <td>2</td>\n",
       "      <td>2</td>\n",
       "      <td>34</td>\n",
       "      <td>0</td>\n",
       "      <td>0</td>\n",
       "      <td>0</td>\n",
       "      <td>0</td>\n",
       "      <td>...</td>\n",
       "      <td>14331.0</td>\n",
       "      <td>14948.0</td>\n",
       "      <td>15549.0</td>\n",
       "      <td>1518.0</td>\n",
       "      <td>1500.0</td>\n",
       "      <td>1000.0</td>\n",
       "      <td>1000.0</td>\n",
       "      <td>1000.0</td>\n",
       "      <td>5000.0</td>\n",
       "      <td>0</td>\n",
       "    </tr>\n",
       "    <tr>\n",
       "      <th>3</th>\n",
       "      <td>4</td>\n",
       "      <td>50000.0</td>\n",
       "      <td>2</td>\n",
       "      <td>2</td>\n",
       "      <td>1</td>\n",
       "      <td>37</td>\n",
       "      <td>0</td>\n",
       "      <td>0</td>\n",
       "      <td>0</td>\n",
       "      <td>0</td>\n",
       "      <td>...</td>\n",
       "      <td>28314.0</td>\n",
       "      <td>28959.0</td>\n",
       "      <td>29547.0</td>\n",
       "      <td>2000.0</td>\n",
       "      <td>2019.0</td>\n",
       "      <td>1200.0</td>\n",
       "      <td>1100.0</td>\n",
       "      <td>1069.0</td>\n",
       "      <td>1000.0</td>\n",
       "      <td>0</td>\n",
       "    </tr>\n",
       "    <tr>\n",
       "      <th>4</th>\n",
       "      <td>5</td>\n",
       "      <td>50000.0</td>\n",
       "      <td>1</td>\n",
       "      <td>2</td>\n",
       "      <td>1</td>\n",
       "      <td>57</td>\n",
       "      <td>-1</td>\n",
       "      <td>0</td>\n",
       "      <td>-1</td>\n",
       "      <td>0</td>\n",
       "      <td>...</td>\n",
       "      <td>20940.0</td>\n",
       "      <td>19146.0</td>\n",
       "      <td>19131.0</td>\n",
       "      <td>2000.0</td>\n",
       "      <td>36681.0</td>\n",
       "      <td>10000.0</td>\n",
       "      <td>9000.0</td>\n",
       "      <td>689.0</td>\n",
       "      <td>679.0</td>\n",
       "      <td>0</td>\n",
       "    </tr>\n",
       "  </tbody>\n",
       "</table>\n",
       "<p>5 rows × 25 columns</p>\n",
       "</div>"
      ],
      "text/plain": [
       "   ID  LIMIT_BAL  SEX  EDUCATION  MARRIAGE  AGE  PAY_0  PAY_2  PAY_3  PAY_4  \\\n",
       "0   1    20000.0    2          2         1   24      2      2     -1     -1   \n",
       "1   2   120000.0    2          2         2   26     -1      2      0      0   \n",
       "2   3    90000.0    2          2         2   34      0      0      0      0   \n",
       "3   4    50000.0    2          2         1   37      0      0      0      0   \n",
       "4   5    50000.0    1          2         1   57     -1      0     -1      0   \n",
       "\n",
       "              ...              BILL_AMT4  BILL_AMT5  BILL_AMT6  PAY_AMT1  \\\n",
       "0             ...                    0.0        0.0        0.0       0.0   \n",
       "1             ...                 3272.0     3455.0     3261.0       0.0   \n",
       "2             ...                14331.0    14948.0    15549.0    1518.0   \n",
       "3             ...                28314.0    28959.0    29547.0    2000.0   \n",
       "4             ...                20940.0    19146.0    19131.0    2000.0   \n",
       "\n",
       "   PAY_AMT2  PAY_AMT3  PAY_AMT4  PAY_AMT5  PAY_AMT6  \\\n",
       "0     689.0       0.0       0.0       0.0       0.0   \n",
       "1    1000.0    1000.0    1000.0       0.0    2000.0   \n",
       "2    1500.0    1000.0    1000.0    1000.0    5000.0   \n",
       "3    2019.0    1200.0    1100.0    1069.0    1000.0   \n",
       "4   36681.0   10000.0    9000.0     689.0     679.0   \n",
       "\n",
       "   default.payment.next.month  \n",
       "0                           1  \n",
       "1                           1  \n",
       "2                           0  \n",
       "3                           0  \n",
       "4                           0  \n",
       "\n",
       "[5 rows x 25 columns]"
      ]
     },
     "execution_count": 2,
     "metadata": {},
     "output_type": "execute_result"
    }
   ],
   "source": [
    "# Let's first explore the data. Before we load the data, load all required libraries\n",
    "import pandas as pd\n",
    "import numpy as py\n",
    "import matplotlib.pyplot as plt\n",
    "\n",
    "#Load the CSV file into dataframeb\n",
    "payment_data = pd.read_csv('data/UCI_Credit_Card.csv')\n",
    "payment_data.head()\n"
   ]
  },
  {
   "cell_type": "code",
   "execution_count": 4,
   "metadata": {},
   "outputs": [
    {
     "data": {
      "text/plain": [
       "Index(['ID', 'LIMIT_BAL', 'SEX', 'EDUCATION', 'MARRIAGE', 'AGE', 'PAY_0',\n",
       "       'PAY_2', 'PAY_3', 'PAY_4', 'PAY_5', 'PAY_6', 'BILL_AMT1', 'BILL_AMT2',\n",
       "       'BILL_AMT3', 'BILL_AMT4', 'BILL_AMT5', 'BILL_AMT6', 'PAY_AMT1',\n",
       "       'PAY_AMT2', 'PAY_AMT3', 'PAY_AMT4', 'PAY_AMT5', 'PAY_AMT6',\n",
       "       'default.payment.next.month'],\n",
       "      dtype='object')"
      ]
     },
     "execution_count": 4,
     "metadata": {},
     "output_type": "execute_result"
    }
   ],
   "source": [
    "#Some more visual checking\n",
    "payment_data.columns"
   ]
  },
  {
   "cell_type": "code",
   "execution_count": 5,
   "metadata": {},
   "outputs": [
    {
     "data": {
      "text/plain": [
       "(30000, 25)"
      ]
     },
     "execution_count": 5,
     "metadata": {},
     "output_type": "execute_result"
    }
   ],
   "source": [
    "payment_data.shape"
   ]
  },
  {
   "cell_type": "code",
   "execution_count": 6,
   "metadata": {},
   "outputs": [
    {
     "name": "stdout",
     "output_type": "stream",
     "text": [
      "<class 'pandas.core.frame.DataFrame'>\n",
      "RangeIndex: 30000 entries, 0 to 29999\n",
      "Data columns (total 25 columns):\n",
      "ID                            30000 non-null int64\n",
      "LIMIT_BAL                     30000 non-null float64\n",
      "SEX                           30000 non-null int64\n",
      "EDUCATION                     30000 non-null int64\n",
      "MARRIAGE                      30000 non-null int64\n",
      "AGE                           30000 non-null int64\n",
      "PAY_0                         30000 non-null int64\n",
      "PAY_2                         30000 non-null int64\n",
      "PAY_3                         30000 non-null int64\n",
      "PAY_4                         30000 non-null int64\n",
      "PAY_5                         30000 non-null int64\n",
      "PAY_6                         30000 non-null int64\n",
      "BILL_AMT1                     30000 non-null float64\n",
      "BILL_AMT2                     30000 non-null float64\n",
      "BILL_AMT3                     30000 non-null float64\n",
      "BILL_AMT4                     30000 non-null float64\n",
      "BILL_AMT5                     30000 non-null float64\n",
      "BILL_AMT6                     30000 non-null float64\n",
      "PAY_AMT1                      30000 non-null float64\n",
      "PAY_AMT2                      30000 non-null float64\n",
      "PAY_AMT3                      30000 non-null float64\n",
      "PAY_AMT4                      30000 non-null float64\n",
      "PAY_AMT5                      30000 non-null float64\n",
      "PAY_AMT6                      30000 non-null float64\n",
      "default.payment.next.month    30000 non-null int64\n",
      "dtypes: float64(13), int64(12)\n",
      "memory usage: 5.7 MB\n"
     ]
    }
   ],
   "source": [
    "payment_data.info()"
   ]
  },
  {
   "cell_type": "code",
   "execution_count": 7,
   "metadata": {},
   "outputs": [
    {
     "name": "stdout",
     "output_type": "stream",
     "text": [
      "10000.0\n",
      "1000000.0\n",
      "21\n",
      "79\n"
     ]
    }
   ],
   "source": [
    "print(payment_data['LIMIT_BAL'].min())\n",
    "print(payment_data['LIMIT_BAL'].max())\n",
    "print(payment_data['AGE'].min())\n",
    "print(payment_data['AGE'].max())"
   ]
  },
  {
   "cell_type": "code",
   "execution_count": 8,
   "metadata": {},
   "outputs": [
    {
     "data": {
      "text/html": [
       "<div>\n",
       "<style scoped>\n",
       "    .dataframe tbody tr th:only-of-type {\n",
       "        vertical-align: middle;\n",
       "    }\n",
       "\n",
       "    .dataframe tbody tr th {\n",
       "        vertical-align: top;\n",
       "    }\n",
       "\n",
       "    .dataframe thead th {\n",
       "        text-align: right;\n",
       "    }\n",
       "</style>\n",
       "<table border=\"1\" class=\"dataframe\">\n",
       "  <thead>\n",
       "    <tr style=\"text-align: right;\">\n",
       "      <th></th>\n",
       "      <th>ID</th>\n",
       "      <th>LIMIT_BAL</th>\n",
       "      <th>SEX</th>\n",
       "      <th>EDUCATION</th>\n",
       "      <th>MARRIAGE</th>\n",
       "      <th>AGE</th>\n",
       "      <th>PAY_0</th>\n",
       "      <th>PAY_2</th>\n",
       "      <th>PAY_3</th>\n",
       "      <th>PAY_4</th>\n",
       "      <th>...</th>\n",
       "      <th>BILL_AMT3</th>\n",
       "      <th>BILL_AMT4</th>\n",
       "      <th>BILL_AMT5</th>\n",
       "      <th>BILL_AMT6</th>\n",
       "      <th>PAY_AMT1</th>\n",
       "      <th>PAY_AMT2</th>\n",
       "      <th>PAY_AMT3</th>\n",
       "      <th>PAY_AMT4</th>\n",
       "      <th>PAY_AMT5</th>\n",
       "      <th>PAY_AMT6</th>\n",
       "    </tr>\n",
       "    <tr>\n",
       "      <th>default.payment.next.month</th>\n",
       "      <th></th>\n",
       "      <th></th>\n",
       "      <th></th>\n",
       "      <th></th>\n",
       "      <th></th>\n",
       "      <th></th>\n",
       "      <th></th>\n",
       "      <th></th>\n",
       "      <th></th>\n",
       "      <th></th>\n",
       "      <th></th>\n",
       "      <th></th>\n",
       "      <th></th>\n",
       "      <th></th>\n",
       "      <th></th>\n",
       "      <th></th>\n",
       "      <th></th>\n",
       "      <th></th>\n",
       "      <th></th>\n",
       "      <th></th>\n",
       "      <th></th>\n",
       "    </tr>\n",
       "  </thead>\n",
       "  <tbody>\n",
       "    <tr>\n",
       "      <th>0</th>\n",
       "      <td>23364</td>\n",
       "      <td>23364</td>\n",
       "      <td>23364</td>\n",
       "      <td>23364</td>\n",
       "      <td>23364</td>\n",
       "      <td>23364</td>\n",
       "      <td>23364</td>\n",
       "      <td>23364</td>\n",
       "      <td>23364</td>\n",
       "      <td>23364</td>\n",
       "      <td>...</td>\n",
       "      <td>23364</td>\n",
       "      <td>23364</td>\n",
       "      <td>23364</td>\n",
       "      <td>23364</td>\n",
       "      <td>23364</td>\n",
       "      <td>23364</td>\n",
       "      <td>23364</td>\n",
       "      <td>23364</td>\n",
       "      <td>23364</td>\n",
       "      <td>23364</td>\n",
       "    </tr>\n",
       "    <tr>\n",
       "      <th>1</th>\n",
       "      <td>6636</td>\n",
       "      <td>6636</td>\n",
       "      <td>6636</td>\n",
       "      <td>6636</td>\n",
       "      <td>6636</td>\n",
       "      <td>6636</td>\n",
       "      <td>6636</td>\n",
       "      <td>6636</td>\n",
       "      <td>6636</td>\n",
       "      <td>6636</td>\n",
       "      <td>...</td>\n",
       "      <td>6636</td>\n",
       "      <td>6636</td>\n",
       "      <td>6636</td>\n",
       "      <td>6636</td>\n",
       "      <td>6636</td>\n",
       "      <td>6636</td>\n",
       "      <td>6636</td>\n",
       "      <td>6636</td>\n",
       "      <td>6636</td>\n",
       "      <td>6636</td>\n",
       "    </tr>\n",
       "  </tbody>\n",
       "</table>\n",
       "<p>2 rows × 24 columns</p>\n",
       "</div>"
      ],
      "text/plain": [
       "                               ID  LIMIT_BAL    SEX  EDUCATION  MARRIAGE  \\\n",
       "default.payment.next.month                                                 \n",
       "0                           23364      23364  23364      23364     23364   \n",
       "1                            6636       6636   6636       6636      6636   \n",
       "\n",
       "                              AGE  PAY_0  PAY_2  PAY_3  PAY_4    ...     \\\n",
       "default.payment.next.month                                       ...      \n",
       "0                           23364  23364  23364  23364  23364    ...      \n",
       "1                            6636   6636   6636   6636   6636    ...      \n",
       "\n",
       "                            BILL_AMT3  BILL_AMT4  BILL_AMT5  BILL_AMT6  \\\n",
       "default.payment.next.month                                               \n",
       "0                               23364      23364      23364      23364   \n",
       "1                                6636       6636       6636       6636   \n",
       "\n",
       "                            PAY_AMT1  PAY_AMT2  PAY_AMT3  PAY_AMT4  PAY_AMT5  \\\n",
       "default.payment.next.month                                                     \n",
       "0                              23364     23364     23364     23364     23364   \n",
       "1                               6636      6636      6636      6636      6636   \n",
       "\n",
       "                            PAY_AMT6  \n",
       "default.payment.next.month            \n",
       "0                              23364  \n",
       "1                               6636  \n",
       "\n",
       "[2 rows x 24 columns]"
      ]
     },
     "execution_count": 8,
     "metadata": {},
     "output_type": "execute_result"
    }
   ],
   "source": [
    "payment_data.groupby('default.payment.next.month').count()"
   ]
  },
  {
   "cell_type": "markdown",
   "metadata": {},
   "source": [
    "# Observations from above data\n",
    "\n",
    "* Balance limit range from 10,000 to 1 million!\n",
    "* Customers' age range from 21 to 79. \n",
    "* In the dataset given, 28% defaulted on the payment. That's much larger than 2.54% delinquency rate on credit card debt for all commercial banks in U.S."
   ]
  },
  {
   "cell_type": "code",
   "execution_count": 9,
   "metadata": {},
   "outputs": [
    {
     "data": {
      "text/html": [
       "<div>\n",
       "<style scoped>\n",
       "    .dataframe tbody tr th:only-of-type {\n",
       "        vertical-align: middle;\n",
       "    }\n",
       "\n",
       "    .dataframe tbody tr th {\n",
       "        vertical-align: top;\n",
       "    }\n",
       "\n",
       "    .dataframe thead th {\n",
       "        text-align: right;\n",
       "    }\n",
       "</style>\n",
       "<table border=\"1\" class=\"dataframe\">\n",
       "  <thead>\n",
       "    <tr style=\"text-align: right;\">\n",
       "      <th></th>\n",
       "      <th>ID</th>\n",
       "      <th>LIMIT_BAL</th>\n",
       "      <th>SEX</th>\n",
       "      <th>MARRIAGE</th>\n",
       "      <th>AGE</th>\n",
       "      <th>PAY_0</th>\n",
       "      <th>PAY_2</th>\n",
       "      <th>PAY_3</th>\n",
       "      <th>PAY_4</th>\n",
       "      <th>PAY_5</th>\n",
       "      <th>...</th>\n",
       "      <th>BILL_AMT4</th>\n",
       "      <th>BILL_AMT5</th>\n",
       "      <th>BILL_AMT6</th>\n",
       "      <th>PAY_AMT1</th>\n",
       "      <th>PAY_AMT2</th>\n",
       "      <th>PAY_AMT3</th>\n",
       "      <th>PAY_AMT4</th>\n",
       "      <th>PAY_AMT5</th>\n",
       "      <th>PAY_AMT6</th>\n",
       "      <th>default.payment.next.month</th>\n",
       "    </tr>\n",
       "    <tr>\n",
       "      <th>EDUCATION</th>\n",
       "      <th></th>\n",
       "      <th></th>\n",
       "      <th></th>\n",
       "      <th></th>\n",
       "      <th></th>\n",
       "      <th></th>\n",
       "      <th></th>\n",
       "      <th></th>\n",
       "      <th></th>\n",
       "      <th></th>\n",
       "      <th></th>\n",
       "      <th></th>\n",
       "      <th></th>\n",
       "      <th></th>\n",
       "      <th></th>\n",
       "      <th></th>\n",
       "      <th></th>\n",
       "      <th></th>\n",
       "      <th></th>\n",
       "      <th></th>\n",
       "      <th></th>\n",
       "    </tr>\n",
       "  </thead>\n",
       "  <tbody>\n",
       "    <tr>\n",
       "      <th>0</th>\n",
       "      <td>14</td>\n",
       "      <td>14</td>\n",
       "      <td>14</td>\n",
       "      <td>14</td>\n",
       "      <td>14</td>\n",
       "      <td>14</td>\n",
       "      <td>14</td>\n",
       "      <td>14</td>\n",
       "      <td>14</td>\n",
       "      <td>14</td>\n",
       "      <td>...</td>\n",
       "      <td>14</td>\n",
       "      <td>14</td>\n",
       "      <td>14</td>\n",
       "      <td>14</td>\n",
       "      <td>14</td>\n",
       "      <td>14</td>\n",
       "      <td>14</td>\n",
       "      <td>14</td>\n",
       "      <td>14</td>\n",
       "      <td>14</td>\n",
       "    </tr>\n",
       "    <tr>\n",
       "      <th>1</th>\n",
       "      <td>10585</td>\n",
       "      <td>10585</td>\n",
       "      <td>10585</td>\n",
       "      <td>10585</td>\n",
       "      <td>10585</td>\n",
       "      <td>10585</td>\n",
       "      <td>10585</td>\n",
       "      <td>10585</td>\n",
       "      <td>10585</td>\n",
       "      <td>10585</td>\n",
       "      <td>...</td>\n",
       "      <td>10585</td>\n",
       "      <td>10585</td>\n",
       "      <td>10585</td>\n",
       "      <td>10585</td>\n",
       "      <td>10585</td>\n",
       "      <td>10585</td>\n",
       "      <td>10585</td>\n",
       "      <td>10585</td>\n",
       "      <td>10585</td>\n",
       "      <td>10585</td>\n",
       "    </tr>\n",
       "    <tr>\n",
       "      <th>2</th>\n",
       "      <td>14030</td>\n",
       "      <td>14030</td>\n",
       "      <td>14030</td>\n",
       "      <td>14030</td>\n",
       "      <td>14030</td>\n",
       "      <td>14030</td>\n",
       "      <td>14030</td>\n",
       "      <td>14030</td>\n",
       "      <td>14030</td>\n",
       "      <td>14030</td>\n",
       "      <td>...</td>\n",
       "      <td>14030</td>\n",
       "      <td>14030</td>\n",
       "      <td>14030</td>\n",
       "      <td>14030</td>\n",
       "      <td>14030</td>\n",
       "      <td>14030</td>\n",
       "      <td>14030</td>\n",
       "      <td>14030</td>\n",
       "      <td>14030</td>\n",
       "      <td>14030</td>\n",
       "    </tr>\n",
       "    <tr>\n",
       "      <th>3</th>\n",
       "      <td>4917</td>\n",
       "      <td>4917</td>\n",
       "      <td>4917</td>\n",
       "      <td>4917</td>\n",
       "      <td>4917</td>\n",
       "      <td>4917</td>\n",
       "      <td>4917</td>\n",
       "      <td>4917</td>\n",
       "      <td>4917</td>\n",
       "      <td>4917</td>\n",
       "      <td>...</td>\n",
       "      <td>4917</td>\n",
       "      <td>4917</td>\n",
       "      <td>4917</td>\n",
       "      <td>4917</td>\n",
       "      <td>4917</td>\n",
       "      <td>4917</td>\n",
       "      <td>4917</td>\n",
       "      <td>4917</td>\n",
       "      <td>4917</td>\n",
       "      <td>4917</td>\n",
       "    </tr>\n",
       "    <tr>\n",
       "      <th>4</th>\n",
       "      <td>123</td>\n",
       "      <td>123</td>\n",
       "      <td>123</td>\n",
       "      <td>123</td>\n",
       "      <td>123</td>\n",
       "      <td>123</td>\n",
       "      <td>123</td>\n",
       "      <td>123</td>\n",
       "      <td>123</td>\n",
       "      <td>123</td>\n",
       "      <td>...</td>\n",
       "      <td>123</td>\n",
       "      <td>123</td>\n",
       "      <td>123</td>\n",
       "      <td>123</td>\n",
       "      <td>123</td>\n",
       "      <td>123</td>\n",
       "      <td>123</td>\n",
       "      <td>123</td>\n",
       "      <td>123</td>\n",
       "      <td>123</td>\n",
       "    </tr>\n",
       "    <tr>\n",
       "      <th>5</th>\n",
       "      <td>280</td>\n",
       "      <td>280</td>\n",
       "      <td>280</td>\n",
       "      <td>280</td>\n",
       "      <td>280</td>\n",
       "      <td>280</td>\n",
       "      <td>280</td>\n",
       "      <td>280</td>\n",
       "      <td>280</td>\n",
       "      <td>280</td>\n",
       "      <td>...</td>\n",
       "      <td>280</td>\n",
       "      <td>280</td>\n",
       "      <td>280</td>\n",
       "      <td>280</td>\n",
       "      <td>280</td>\n",
       "      <td>280</td>\n",
       "      <td>280</td>\n",
       "      <td>280</td>\n",
       "      <td>280</td>\n",
       "      <td>280</td>\n",
       "    </tr>\n",
       "    <tr>\n",
       "      <th>6</th>\n",
       "      <td>51</td>\n",
       "      <td>51</td>\n",
       "      <td>51</td>\n",
       "      <td>51</td>\n",
       "      <td>51</td>\n",
       "      <td>51</td>\n",
       "      <td>51</td>\n",
       "      <td>51</td>\n",
       "      <td>51</td>\n",
       "      <td>51</td>\n",
       "      <td>...</td>\n",
       "      <td>51</td>\n",
       "      <td>51</td>\n",
       "      <td>51</td>\n",
       "      <td>51</td>\n",
       "      <td>51</td>\n",
       "      <td>51</td>\n",
       "      <td>51</td>\n",
       "      <td>51</td>\n",
       "      <td>51</td>\n",
       "      <td>51</td>\n",
       "    </tr>\n",
       "  </tbody>\n",
       "</table>\n",
       "<p>7 rows × 24 columns</p>\n",
       "</div>"
      ],
      "text/plain": [
       "              ID  LIMIT_BAL    SEX  MARRIAGE    AGE  PAY_0  PAY_2  PAY_3  \\\n",
       "EDUCATION                                                                  \n",
       "0             14         14     14        14     14     14     14     14   \n",
       "1          10585      10585  10585     10585  10585  10585  10585  10585   \n",
       "2          14030      14030  14030     14030  14030  14030  14030  14030   \n",
       "3           4917       4917   4917      4917   4917   4917   4917   4917   \n",
       "4            123        123    123       123    123    123    123    123   \n",
       "5            280        280    280       280    280    280    280    280   \n",
       "6             51         51     51        51     51     51     51     51   \n",
       "\n",
       "           PAY_4  PAY_5             ...              BILL_AMT4  BILL_AMT5  \\\n",
       "EDUCATION                           ...                                     \n",
       "0             14     14             ...                     14         14   \n",
       "1          10585  10585             ...                  10585      10585   \n",
       "2          14030  14030             ...                  14030      14030   \n",
       "3           4917   4917             ...                   4917       4917   \n",
       "4            123    123             ...                    123        123   \n",
       "5            280    280             ...                    280        280   \n",
       "6             51     51             ...                     51         51   \n",
       "\n",
       "           BILL_AMT6  PAY_AMT1  PAY_AMT2  PAY_AMT3  PAY_AMT4  PAY_AMT5  \\\n",
       "EDUCATION                                                                \n",
       "0                 14        14        14        14        14        14   \n",
       "1              10585     10585     10585     10585     10585     10585   \n",
       "2              14030     14030     14030     14030     14030     14030   \n",
       "3               4917      4917      4917      4917      4917      4917   \n",
       "4                123       123       123       123       123       123   \n",
       "5                280       280       280       280       280       280   \n",
       "6                 51        51        51        51        51        51   \n",
       "\n",
       "           PAY_AMT6  default.payment.next.month  \n",
       "EDUCATION                                        \n",
       "0                14                          14  \n",
       "1             10585                       10585  \n",
       "2             14030                       14030  \n",
       "3              4917                        4917  \n",
       "4               123                         123  \n",
       "5               280                         280  \n",
       "6                51                          51  \n",
       "\n",
       "[7 rows x 24 columns]"
      ]
     },
     "execution_count": 9,
     "metadata": {},
     "output_type": "execute_result"
    }
   ],
   "source": [
    "payment_data.groupby('EDUCATION').count()"
   ]
  },
  {
   "cell_type": "code",
   "execution_count": 10,
   "metadata": {},
   "outputs": [
    {
     "data": {
      "image/png": "[encoded data removed]",
      "text/plain": [
       "<Figure size 432x288 with 1 Axes>"
      ]
     },
     "metadata": {
      "needs_background": "light"
     },
     "output_type": "display_data"
    }
   ],
   "source": [
    "# Make a bar chart to understand if higher education equals to less default. Meaning that highly educated people earn more, \n",
    "# thus less chance of defaulting on credit card payment. Let's see if that assumption is true. \n",
    "\n",
    "import numpy as np\n",
    "\n",
    "# EDUCATION column values 1=graduate school, 2=university, 3=high school, 4=others, 5=unknown, 6=unknown, 0=unknown \n",
    "# (0 is not given in the instructions) -- group all unknowns together\n",
    "\n",
    "education_unknown = 0\n",
    "education_graduate = 0\n",
    "education_university = 0\n",
    "education_highschool = 0\n",
    "education_others = 0\n",
    "default_unknown = 0\n",
    "default_graduate = 0\n",
    "default_university = 0\n",
    "default_highschool = 0\n",
    "default_others = 0\n",
    "\n",
    "for index, row in payment_data.iterrows():    \n",
    "    if (row['EDUCATION'] == 5):\n",
    "            education_unknown+=1\n",
    "            if (row['default.payment.next.month'] == 1):\n",
    "                default_unknown+=1\n",
    "    elif (row['EDUCATION'] == 1):\n",
    "            education_graduate+=1\n",
    "            if (row['default.payment.next.month'] == 1):\n",
    "                default_graduate+=1\n",
    "    elif (row['EDUCATION'] == 2):\n",
    "            education_university+=1\n",
    "            if (row['default.payment.next.month'] == 1):\n",
    "                default_university+=1\n",
    "    elif (row['EDUCATION'] == 3):\n",
    "            education_highschool+=1\n",
    "            if (row['default.payment.next.month'] == 1):\n",
    "                default_highschool+=1\n",
    "    else:\n",
    "            education_others+=1\n",
    "            if (row['default.payment.next.month'] == 1):\n",
    "                default_others+=1\n",
    "\n",
    "default_percentage_graduate = (default_graduate/education_graduate) * 100\n",
    "default_percentage_university = (default_university/education_university) * 100\n",
    "default_percentage_highschool = (default_highschool/education_highschool) * 100\n",
    "default_percentage_others = (default_others/education_others) * 100\n",
    "default_percentage_unknown = (default_unknown/education_unknown) * 100\n",
    "\n",
    "education_level = ('gradSchool', 'university', 'highSchool', 'others', 'unknown')\n",
    "y_pos = np.arange(len(education_level))\n",
    "default_payment_percentage = (default_percentage_graduate, default_percentage_university, default_percentage_highschool, default_percentage_others, default_percentage_unknown)\n",
    " \n",
    "plt.bar(y_pos, default_payment_percentage, align='center', alpha=0.5)\n",
    "plt.xticks(y_pos, education_level)\n",
    "plt.ylabel('Percentage')\n",
    "plt.title('Payment defaulters grouped by education')\n",
    "plt.show()"
   ]
  },
  {
   "cell_type": "markdown",
   "metadata": {},
   "source": [
    "Findings from bar chart: Interestingly less educated people were more prompt in paying credit card bills!"
   ]
  },
  {
   "cell_type": "code",
   "execution_count": 12,
   "metadata": {},
   "outputs": [
    {
     "data": {
      "image/png": "[encoded data removed]",
      "text/plain": [
       "<Figure size 432x288 with 1 Axes>"
      ]
     },
     "metadata": {
      "needs_background": "light"
     },
     "output_type": "display_data"
    }
   ],
   "source": [
    "# Let's try histogram of one bill amount to see if it provides any insights\n",
    "x = payment_data['BILL_AMT1']\n",
    "num_bins = 20\n",
    "n, bins, patches = plt.hist(x, num_bins, facecolor='blue', alpha=0.5)\n",
    "plt.show()"
   ]
  },
  {
   "cell_type": "markdown",
   "metadata": {},
   "source": [
    "No insights from above histogram. Same for other bill amounts as well. "
   ]
  },
  {
   "cell_type": "code",
   "execution_count": 13,
   "metadata": {},
   "outputs": [
    {
     "name": "stderr",
     "output_type": "stream",
     "text": [
      "C:\\Users\\rammu_000\\Anaconda3\\lib\\site-packages\\scipy\\stats\\stats.py:1713: FutureWarning: Using a non-tuple sequence for multidimensional indexing is deprecated; use `arr[tuple(seq)]` instead of `arr[seq]`. In the future this will be interpreted as an array index, `arr[np.array(seq)]`, which will result either in an error or a different result.\n",
      "  return np.add.reduce(sorted[indexer] * weights, axis=axis) / sumval\n"
     ]
    },
    {
     "data": {
      "image/png": "[encoded data removed]",
      "text/plain": [
       "<Figure size 360x360 with 1 Axes>"
      ]
     },
     "metadata": {
      "needs_background": "light"
     },
     "output_type": "display_data"
    }
   ],
   "source": [
    "# Can we predict if a person is late in April would be most probably late in September as well? \n",
    "# Compare PAY_6 (payment status in April 2005) with PAY_0 (payment status in September 2005)\n",
    "\n",
    "import seaborn as sns\n",
    "\n",
    "# Plot a linear regression\n",
    "sns.lmplot(x='PAY_6', y='PAY_0', data=payment_data)\n",
    "\n",
    "# Display the plot\n",
    "plt.show()"
   ]
  },
  {
   "cell_type": "markdown",
   "metadata": {},
   "source": [
    "There is no definite correlation between repayment status in April vs September. However, we can interpret from above chart that most of the customers who were late in payment in April 2005 were late in September 2005 as well. "
   ]
  },
  {
   "cell_type": "code",
   "execution_count": 15,
   "metadata": {},
   "outputs": [
    {
     "data": {
      "text/plain": [
       "{'whiskers': [<matplotlib.lines.Line2D at 0x16d3f0cc3c8>,\n",
       "  <matplotlib.lines.Line2D at 0x16d3f0cc710>],\n",
       " 'caps': [<matplotlib.lines.Line2D at 0x16d3f0cca58>,\n",
       "  <matplotlib.lines.Line2D at 0x16d3f0ccda0>],\n",
       " 'boxes': [<matplotlib.lines.Line2D at 0x16d3f0cc080>],\n",
       " 'medians': [<matplotlib.lines.Line2D at 0x16d3f0ccef0>],\n",
       " 'fliers': [<matplotlib.lines.Line2D at 0x16d3f0d6470>],\n",
       " 'means': []}"
      ]
     },
     "execution_count": 15,
     "metadata": {},
     "output_type": "execute_result"
    },
    {
     "data": {
      "image/png": "[encoded data removed]",
      "text/plain": [
       "<Figure size 432x288 with 1 Axes>"
      ]
     },
     "metadata": {
      "needs_background": "light"
     },
     "output_type": "display_data"
    }
   ],
   "source": [
    "# Draw boxplot on couple of payment amounts to see if there is any pattern \n",
    "\n",
    "fig1, ax1 = plt.subplots()\n",
    "ax1.set_title('Basic Plot')\n",
    "ax1.set(ylim=(10, 20000))\n",
    "ax1.boxplot(payment_data['PAY_AMT1'])"
   ]
  },
  {
   "cell_type": "code",
   "execution_count": 16,
   "metadata": {},
   "outputs": [
    {
     "data": {
      "text/plain": [
       "{'whiskers': [<matplotlib.lines.Line2D at 0x16d3f121dd8>,\n",
       "  <matplotlib.lines.Line2D at 0x16d3f121f28>],\n",
       " 'caps': [<matplotlib.lines.Line2D at 0x16d3f12d4a8>,\n",
       "  <matplotlib.lines.Line2D at 0x16d3f12d7f0>],\n",
       " 'boxes': [<matplotlib.lines.Line2D at 0x16d3f121a90>],\n",
       " 'medians': [<matplotlib.lines.Line2D at 0x16d3f12db38>],\n",
       " 'fliers': [<matplotlib.lines.Line2D at 0x16d3f12de80>],\n",
       " 'means': []}"
      ]
     },
     "execution_count": 16,
     "metadata": {},
     "output_type": "execute_result"
    },
    {
     "data": {
      "image/png": "[encoded data removed]",
      "text/plain": [
       "<Figure size 432x288 with 1 Axes>"
      ]
     },
     "metadata": {
      "needs_background": "light"
     },
     "output_type": "display_data"
    }
   ],
   "source": [
    "fig1, ax1 = plt.subplots()\n",
    "ax1.set_title('Basic Plot')\n",
    "ax1.set(ylim=(10, 20000))\n",
    "ax1.boxplot(payment_data['PAY_AMT2'])"
   ]
  },
  {
   "cell_type": "code",
   "execution_count": 17,
   "metadata": {},
   "outputs": [
    {
     "data": {
      "text/plain": [
       "{'whiskers': [<matplotlib.lines.Line2D at 0x16d3f181c50>,\n",
       "  <matplotlib.lines.Line2D at 0x16d3f181f98>],\n",
       " 'caps': [<matplotlib.lines.Line2D at 0x16d3f18a320>,\n",
       "  <matplotlib.lines.Line2D at 0x16d3f18a668>],\n",
       " 'boxes': [<matplotlib.lines.Line2D at 0x16d3f181908>],\n",
       " 'medians': [<matplotlib.lines.Line2D at 0x16d3f18a9b0>],\n",
       " 'fliers': [<matplotlib.lines.Line2D at 0x16d3f18acf8>],\n",
       " 'means': []}"
      ]
     },
     "execution_count": 17,
     "metadata": {},
     "output_type": "execute_result"
    },
    {
     "data": {
      "image/png": "[encoded data removed]",
      "text/plain": [
       "<Figure size 432x288 with 1 Axes>"
      ]
     },
     "metadata": {
      "needs_background": "light"
     },
     "output_type": "display_data"
    }
   ],
   "source": [
    "fig1, ax1 = plt.subplots()\n",
    "ax1.set_title('Basic Plot')\n",
    "ax1.set(ylim=(10, 20000))\n",
    "ax1.boxplot(payment_data['PAY_AMT3'])"
   ]
  },
  {
   "cell_type": "markdown",
   "metadata": {},
   "source": [
    "Boxplots for pay_amt1. pay_amt2 and pay_amt3 look same in terms of non-outliers. \n",
    "I suspect that it's going to look the same for other pay_amt"
   ]
  },
  {
   "cell_type": "code",
   "execution_count": 18,
   "metadata": {},
   "outputs": [
    {
     "data": {
      "image/png": "[encoded data removed]",
      "text/plain": [
       "<Figure size 432x288 with 1 Axes>"
      ]
     },
     "metadata": {
      "needs_background": "light"
     },
     "output_type": "display_data"
    }
   ],
   "source": [
    "# Draw Scatterplot for payment status in September vs payment amount in September\n",
    "\n",
    "# PAY_0: Repayment status in September, 2005 (-1=properly paid on time, 1=payment delay for one month, 2=payment delay for two months, ... 8=payment delay for eight months, 9=payment delay for nine months and above)\n",
    "# PAY_AMT1: Amount of previous payment in September, 2005 (NT dollar)\n",
    "# default.payment.next.month: Default payment (1=yes, 0=no)\n",
    "    \n",
    "x = payment_data['PAY_AMT1']\n",
    "y = payment_data['PAY_0']\n",
    "\n",
    "plt.scatter(x, y, alpha=0.5)\n",
    "plt.show()"
   ]
  },
  {
   "cell_type": "markdown",
   "metadata": {},
   "source": [
    "As shown above when a customer pays less amount in a given month (especially less than 100,000 NT dollars), payment delays for that month goes up. This leads to an assumption that when the customer pays the card in full, there is less possibility of customer defaulting next month. It's only a speculation. There is no concrete evidence from above chart. "
   ]
  },
  {
   "cell_type": "code",
   "execution_count": 22,
   "metadata": {},
   "outputs": [
    {
     "data": {
      "image/png": "[encoded data removed]",
      "text/plain": [
       "<Figure size 432x288 with 1 Axes>"
      ]
     },
     "metadata": {
      "needs_background": "light"
     },
     "output_type": "display_data"
    }
   ],
   "source": [
    "#PAY_0 - Repayment status in September 2005\n",
    "#BILL_AMT2: Amount of bill statement in August, 2005 (NT dollar)\n",
    "#PAY_AMT1: Amount of previous payment in September, 2005 (NT dollar)\n",
    "\n",
    "x = payment_data['PAY_AMT1'] / payment_data['BILL_AMT2']\n",
    "y = payment_data['PAY_0']\n",
    "\n",
    "plt.scatter(x, y, alpha=0.5)\n",
    "plt.xlim(-1000, 1000)\n",
    "plt.show()"
   ]
  },
  {
   "cell_type": "markdown",
   "metadata": {},
   "source": [
    "If a customer pays less than what he/she owes, does it indicate the possibility of default in current month? Looking at the chart above, it does not give any indication of that. "
   ]
  },
  {
   "cell_type": "markdown",
   "metadata": {},
   "source": [
    "Summary of insights to prepare the slide deck:\n",
    "\n",
    "28% of Taiwan Bank customers defaulted in credit card payment. This is much larger than delinquency rate of 2.54% for U.S. banks. The data is captured in 2005 and we don't know what is the current default rate in Taiwan Bank.\n",
    "\n",
    "Less educated people were more prompt in paying credit card bills on time.\n",
    "\n",
    "Customers who were late in payment in April 2005 were late in September 2005 as well. This may lead to early detection of default and influence bank staff to take preventive measures to reduce the delinquency rate and loss."
   ]
  }
 ],
 "metadata": {
  "kernelspec": {
   "display_name": "Python 3",
   "language": "python",
   "name": "python3"
  },
  "language_info": {
   "codemirror_mode": {
    "name": "ipython",
    "version": 3
   },
   "file_extension": ".py",
   "mimetype": "text/x-python",
   "name": "python",
   "nbconvert_exporter": "python",
   "pygments_lexer": "ipython3",
   "version": "3.7.1"
  }
 },
 "nbformat": 4,
 "nbformat_minor": 2
}
